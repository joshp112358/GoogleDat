{
 "cells": [
  {
   "cell_type": "code",
   "execution_count": 1,
   "metadata": {},
   "outputs": [],
   "source": [
    "import csv\n",
    "import numpy as np\n",
    "import matplotlib.pyplot as plt\n",
    "import random\n",
    "from scipy import stats"
   ]
  },
  {
   "cell_type": "code",
   "execution_count": 2,
   "metadata": {},
   "outputs": [],
   "source": [
    "with open(\"./n26_m14/measurements_n26_m14_s0_e0_pEFGH.txt\", newline='') as f:\n",
    "    reader = csv.reader(f)\n",
    "    reader = csv.reader(f)\n",
    "    data = list(reader)\n",
    "with open(\"./n26_m14/measurements_n26_m14_s0_e6_pEFGH.txt\", newline='') as f:\n",
    "    reader = csv.reader(f)\n",
    "    reader = csv.reader(f)\n",
    "    data1 = list(reader)\n",
    "with open(\"./n26_m14/measurements_n26_m14_s1_e0_pEFGH.txt\", newline='') as f:\n",
    "    reader = csv.reader(f)\n",
    "    reader = csv.reader(f)\n",
    "    data2 = list(reader)\n",
    "with open(\"./n26_m14/measurements_n26_m14_s1_e6_pEFGH.txt\", newline='') as f:\n",
    "    reader = csv.reader(f)\n",
    "    reader = csv.reader(f)\n",
    "    data3 = list(reader)\n",
    "with open(\"./n26_m14/measurements_n26_m14_s2_e0_pEFGH.txt\", newline='') as f:\n",
    "    reader = csv.reader(f)\n",
    "    reader = csv.reader(f)\n",
    "    data4 = list(reader)\n",
    "with open(\"./n26_m14/measurements_n26_m14_s2_e6_pEFGH.txt\", newline='') as f:\n",
    "    reader = csv.reader(f)\n",
    "    reader = csv.reader(f)\n",
    "    data5 = list(reader)\n",
    "    \n",
    "with open(\"./n26_m14/measurements_n26_m14_s3_e0_pEFGH.txt\", newline='') as f:\n",
    "    reader = csv.reader(f)\n",
    "    reader = csv.reader(f)\n",
    "    data6 = list(reader)\n",
    "with open(\"./n26_m14/measurements_n26_m14_s3_e6_pEFGH.txt\", newline='') as f:\n",
    "    reader = csv.reader(f)\n",
    "    reader = csv.reader(f)\n",
    "    data7 = list(reader)\n",
    "with open(\"./n26_m14/measurements_n26_m14_s4_e0_pEFGH.txt\", newline='') as f:\n",
    "    reader = csv.reader(f)\n",
    "    reader = csv.reader(f)\n",
    "    data8 = list(reader)\n",
    "with open(\"./n26_m14/measurements_n26_m14_s4_e6_pEFGH.txt\", newline='') as f:\n",
    "    reader = csv.reader(f)\n",
    "    reader = csv.reader(f)\n",
    "    data9 = list(reader)\n",
    "with open(\"./n26_m14/measurements_n26_m14_s5_e0_pEFGH.txt\", newline='') as f:\n",
    "    reader = csv.reader(f)\n",
    "    reader = csv.reader(f)\n",
    "    data10 = list(reader)\n",
    "with open(\"./n26_m14/measurements_n26_m14_s5_e6_pEFGH.txt\", newline='') as f:\n",
    "    reader = csv.reader(f)\n",
    "    reader = csv.reader(f)\n",
    "    data11 = list(reader)\n",
    "with open(\"./n26_m14/measurements_n26_m14_s6_e0_pEFGH.txt\", newline='') as f:\n",
    "    reader = csv.reader(f)\n",
    "    reader = csv.reader(f)\n",
    "    data12 = list(reader)\n",
    "with open(\"./n26_m14/measurements_n26_m14_s6_e0_pEFGH.txt\", newline='') as f:\n",
    "    reader = csv.reader(f)\n",
    "    reader = csv.reader(f)\n",
    "    data13 = list(reader)\n",
    "with open(\"./n26_m14/measurements_n26_m14_s7_e0_pEFGH.txt\", newline='') as f:\n",
    "    reader = csv.reader(f)\n",
    "    reader = csv.reader(f)\n",
    "    data14 = list(reader)\n",
    "with open(\"./n26_m14/measurements_n26_m14_s7_e6_pEFGH.txt\", newline='') as f:\n",
    "    reader = csv.reader(f)\n",
    "    reader = csv.reader(f)\n",
    "    data15 = list(reader)\n",
    "with open(\"./n26_m14/measurements_n26_m14_s8_e0_pEFGH.txt\", newline='') as f:\n",
    "    reader = csv.reader(f)\n",
    "    reader = csv.reader(f)\n",
    "    data16 = list(reader)\n",
    "with open(\"./n26_m14/measurements_n26_m14_s8_e6_pEFGH.txt\", newline='') as f:\n",
    "    reader = csv.reader(f)\n",
    "    reader = csv.reader(f)\n",
    "    data17 = list(reader)\n",
    "with open(\"./n26_m14/measurements_n26_m14_s9_e0_pEFGH.txt\", newline='') as f:\n",
    "    reader = csv.reader(f)\n",
    "    reader = csv.reader(f)\n",
    "    data18 = list(reader)\n",
    "with open(\"./n26_m14/measurements_n26_m14_s9_e6_pEFGH.txt\", newline='') as f:\n",
    "    reader = csv.reader(f)\n",
    "    reader = csv.reader(f)\n",
    "    data19 = list(reader)"
   ]
  },
  {
   "cell_type": "code",
   "execution_count": 3,
   "metadata": {},
   "outputs": [],
   "source": [
    "x0 = [list(map(int, n[0])) for n in data]\n",
    "x1 = [list(map(int, n[0])) for n in data1]\n",
    "x2 = [list(map(int, n[0])) for n in data2]\n",
    "x3 = [list(map(int, n[0])) for n in data3]\n",
    "x4 = [list(map(int, n[0])) for n in data4]\n",
    "x5 = [list(map(int, n[0])) for n in data5]\n",
    "x6 = [list(map(int, n[0])) for n in data6]\n",
    "x7 = [list(map(int, n[0])) for n in data7]\n",
    "x8 = [list(map(int, n[0])) for n in data8]\n",
    "x9 = [list(map(int, n[0])) for n in data9]\n",
    "x10 = [list(map(int, n[0])) for n in data10]\n",
    "x11 = [list(map(int, n[0])) for n in data11]\n",
    "x12 = [list(map(int, n[0])) for n in data12]\n",
    "x13 = [list(map(int, n[0])) for n in data13]\n",
    "x14 = [list(map(int, n[0])) for n in data14]\n",
    "x15 = [list(map(int, n[0])) for n in data15]\n",
    "x16 = [list(map(int, n[0])) for n in data16]\n",
    "x17 = [list(map(int, n[0])) for n in data17]\n",
    "x18 = [list(map(int, n[0])) for n in data18]\n",
    "x19 = [list(map(int, n[0])) for n in data19]"
   ]
  },
  {
   "cell_type": "code",
   "execution_count": 4,
   "metadata": {},
   "outputs": [],
   "source": [
    "A0 = np.array(x0)\n",
    "A1 = np.array(x1)\n",
    "A2 = np.array(x2)\n",
    "A3 = np.array(x3)\n",
    "A4 = np.array(x4)\n",
    "A5 = np.array(x5)\n",
    "A6 = np.array(x6)\n",
    "A7 = np.array(x7)\n",
    "A8 = np.array(x8)\n",
    "A9 = np.array(x9)\n",
    "A10 = np.array(x10)\n",
    "A11 = np.array(x11)\n",
    "A12 = np.array(x12)\n",
    "A13 = np.array(x13)\n",
    "A14 = np.array(x14)\n",
    "A15 = np.array(x15)\n",
    "A16 = np.array(x16)\n",
    "A17 = np.array(x17)\n",
    "A18 = np.array(x18)\n",
    "A19 = np.array(x19)"
   ]
  },
  {
   "cell_type": "code",
   "execution_count": 5,
   "metadata": {},
   "outputs": [],
   "source": [
    "s = np.linalg.svd(A0, compute_uv=False)\n",
    "y0 = A0.dot(s)\n",
    "y0 = np.sort(y0)\n",
    "\n",
    "s = np.linalg.svd(A1, compute_uv=False)\n",
    "y1 = A1.dot(s)\n",
    "y1 = np.sort(y1)\n",
    "\n",
    "s = np.linalg.svd(A2, compute_uv=False)\n",
    "y2 = A2.dot(s)\n",
    "y2 = np.sort(y2)\n",
    "\n",
    "s = np.linalg.svd(A3, compute_uv=False)\n",
    "y3 = A3.dot(s)\n",
    "y3 = np.sort(y3)\n",
    "\n",
    "s = np.linalg.svd(A4, compute_uv=False)\n",
    "y4 = A4.dot(s)\n",
    "y4 = np.sort(y4)\n",
    "\n",
    "s = np.linalg.svd(A5, compute_uv=False)\n",
    "y5 = A5.dot(s)\n",
    "y5 = np.sort(y5)\n",
    "\n",
    "s = np.linalg.svd(A6, compute_uv=False)\n",
    "y6 = A6.dot(s)\n",
    "y6 = np.sort(y6)\n",
    "\n",
    "s = np.linalg.svd(A7, compute_uv=False)\n",
    "y7 = A7.dot(s)\n",
    "y7 = np.sort(y7)\n",
    "\n",
    "s = np.linalg.svd(A8, compute_uv=False)\n",
    "y8 = A8.dot(s)\n",
    "y8 = np.sort(y8)\n",
    "\n",
    "s = np.linalg.svd(A9, compute_uv=False)\n",
    "y9 = A9.dot(s)\n",
    "y9 = np.sort(y9)\n",
    "\n",
    "s = np.linalg.svd(A10, compute_uv=False)\n",
    "y10 = A10.dot(s)\n",
    "y10 = np.sort(y10)\n",
    "\n",
    "s = np.linalg.svd(A11, compute_uv=False)\n",
    "y11 = A11.dot(s)\n",
    "y11 = np.sort(y11)\n",
    "\n",
    "s = np.linalg.svd(A12, compute_uv=False)\n",
    "y12 = A12.dot(s)\n",
    "y12 = np.sort(y12)\n",
    "\n",
    "s = np.linalg.svd(A13, compute_uv=False)\n",
    "y13 = A13.dot(s)\n",
    "y13 = np.sort(y13)\n",
    "\n",
    "s = np.linalg.svd(A14, compute_uv=False)\n",
    "y14 = A14.dot(s)\n",
    "y14 = np.sort(y14)\n",
    "\n",
    "s = np.linalg.svd(A15, compute_uv=False)\n",
    "y15 = A15.dot(s)\n",
    "y15 = np.sort(y15)\n",
    "\n",
    "s = np.linalg.svd(A16, compute_uv=False)\n",
    "y16 = A16.dot(s)\n",
    "y16 = np.sort(y16)\n",
    "\n",
    "s = np.linalg.svd(A17, compute_uv=False)\n",
    "y17 = A17.dot(s)\n",
    "y17 = np.sort(y17)\n",
    "\n",
    "\n",
    "s = np.linalg.svd(A18, compute_uv=False)\n",
    "y18 = A18.dot(s)\n",
    "y18 = np.sort(y18)\n",
    "\n",
    "\n",
    "s = np.linalg.svd(A19, compute_uv=False)\n",
    "y19 = A19.dot(s)\n",
    "y19 = np.sort(y19)"
   ]
  },
  {
   "cell_type": "code",
   "execution_count": 6,
   "metadata": {},
   "outputs": [
    {
     "data": {
      "text/plain": [
       "[<matplotlib.lines.Line2D at 0x1a17118f90>]"
      ]
     },
     "execution_count": 6,
     "metadata": {},
     "output_type": "execute_result"
    },
    {
     "data": {
      "image/png": "[encoded data removed]",
      "text/plain": [
       "<Figure size 432x288 with 1 Axes>"
      ]
     },
     "metadata": {
      "needs_background": "light"
     },
     "output_type": "display_data"
    }
   ],
   "source": [
    "plt.plot(y0)\n",
    "plt.plot(y1)\n",
    "plt.plot(y2)\n",
    "plt.plot(y3)\n",
    "plt.plot(y4)\n",
    "plt.plot(y5)\n",
    "plt.plot(y6)\n",
    "plt.plot(y7)\n",
    "plt.plot(y8)\n",
    "plt.plot(y9)\n",
    "plt.plot(y10)\n",
    "plt.plot(y11)\n",
    "plt.plot(y12)\n",
    "plt.plot(y13)\n",
    "plt.plot(y14)\n",
    "plt.plot(y15)\n",
    "plt.plot(y16)\n",
    "plt.plot(y17)\n",
    "plt.plot(y18)\n",
    "plt.plot(y19)"
   ]
  },
  {
   "cell_type": "code",
   "execution_count": 7,
   "metadata": {},
   "outputs": [
    {
     "data": {
      "text/plain": [
       "500000"
      ]
     },
     "execution_count": 7,
     "metadata": {},
     "output_type": "execute_result"
    }
   ],
   "source": [
    "len(y19)"
   ]
  },
  {
   "cell_type": "code",
   "execution_count": 9,
   "metadata": {},
   "outputs": [],
   "source": [
    "np.random.seed(1)\n",
    "X = np.random.choice([0, 1], size=(500000,26))\n",
    "sx = np.linalg.svd(X, compute_uv=False)\n",
    "yx = X.dot(sx)\n",
    "yx =np.sort(yx)"
   ]
  },
  {
   "cell_type": "code",
   "execution_count": 10,
   "metadata": {},
   "outputs": [
    {
     "data": {
      "text/plain": [
       "[<matplotlib.lines.Line2D at 0x104236f10>]"
      ]
     },
     "execution_count": 10,
     "metadata": {},
     "output_type": "execute_result"
    },
    {
     "data": {
      "image/png": "[encoded data removed]",
      "text/plain": [
       "<Figure size 432x288 with 1 Axes>"
      ]
     },
     "metadata": {
      "needs_background": "light"
     },
     "output_type": "display_data"
    }
   ],
   "source": [
    "plt.plot(y0)\n",
    "plt.plot(y1)\n",
    "plt.plot(y2)\n",
    "plt.plot(y3)\n",
    "plt.plot(y4)\n",
    "plt.plot(y5)\n",
    "plt.plot(y6)\n",
    "plt.plot(y7)\n",
    "plt.plot(y8)\n",
    "plt.plot(y9)\n",
    "plt.plot(y10)\n",
    "plt.plot(y11)\n",
    "plt.plot(y12)\n",
    "plt.plot(y13)\n",
    "plt.plot(y14)\n",
    "plt.plot(y15)\n",
    "plt.plot(y16)\n",
    "plt.plot(y17)\n",
    "plt.plot(y18)\n",
    "plt.plot(y19)\n",
    "\n",
    "plt.plot(yx , color = 'red')"
   ]
  },
  {
   "cell_type": "code",
   "execution_count": 11,
   "metadata": {},
   "outputs": [
    {
     "data": {
      "text/plain": [
       "Ks_2sampResult(statistic=0.10724599999999995, pvalue=0.0)"
      ]
     },
     "execution_count": 11,
     "metadata": {},
     "output_type": "execute_result"
    }
   ],
   "source": [
    "stats.ks_2samp(yx, y0)"
   ]
  },
  {
   "cell_type": "code",
   "execution_count": 15,
   "metadata": {},
   "outputs": [
    {
     "data": {
      "text/plain": [
       "Ks_2sampResult(statistic=0.10754200000000003, pvalue=0.0)"
      ]
     },
     "execution_count": 15,
     "metadata": {},
     "output_type": "execute_result"
    }
   ],
   "source": [
    "stats.ks_2samp(yx, y1)"
   ]
  },
  {
   "cell_type": "code",
   "execution_count": 16,
   "metadata": {},
   "outputs": [
    {
     "data": {
      "text/plain": [
       "Ks_2sampResult(statistic=0.10816000000000003, pvalue=0.0)"
      ]
     },
     "execution_count": 16,
     "metadata": {},
     "output_type": "execute_result"
    }
   ],
   "source": [
    "stats.ks_2samp(yx, y2)"
   ]
  },
  {
   "cell_type": "code",
   "execution_count": 17,
   "metadata": {},
   "outputs": [
    {
     "data": {
      "text/plain": [
       "Ks_2sampResult(statistic=0.10793600000000003, pvalue=0.0)"
      ]
     },
     "execution_count": 17,
     "metadata": {},
     "output_type": "execute_result"
    }
   ],
   "source": [
    "stats.ks_2samp(yx, y3)"
   ]
  },
  {
   "cell_type": "code",
   "execution_count": 18,
   "metadata": {},
   "outputs": [
    {
     "data": {
      "text/plain": [
       "Ks_2sampResult(statistic=0.1064480000000001, pvalue=0.0)"
      ]
     },
     "execution_count": 18,
     "metadata": {},
     "output_type": "execute_result"
    }
   ],
   "source": [
    "stats.ks_2samp(yx, y4)"
   ]
  },
  {
   "cell_type": "code",
   "execution_count": 19,
   "metadata": {},
   "outputs": [
    {
     "data": {
      "text/plain": [
       "Ks_2sampResult(statistic=0.107742, pvalue=0.0)"
      ]
     },
     "execution_count": 19,
     "metadata": {},
     "output_type": "execute_result"
    }
   ],
   "source": [
    "stats.ks_2samp(yx, y5)"
   ]
  },
  {
   "cell_type": "code",
   "execution_count": 20,
   "metadata": {},
   "outputs": [
    {
     "data": {
      "text/plain": [
       "Ks_2sampResult(statistic=0.10714200000000007, pvalue=0.0)"
      ]
     },
     "execution_count": 20,
     "metadata": {},
     "output_type": "execute_result"
    }
   ],
   "source": [
    "stats.ks_2samp(yx, y6)"
   ]
  },
  {
   "cell_type": "code",
   "execution_count": 21,
   "metadata": {},
   "outputs": [
    {
     "data": {
      "text/plain": [
       "Ks_2sampResult(statistic=0.10831000000000002, pvalue=0.0)"
      ]
     },
     "execution_count": 21,
     "metadata": {},
     "output_type": "execute_result"
    }
   ],
   "source": [
    "stats.ks_2samp(yx, y7)"
   ]
  },
  {
   "cell_type": "code",
   "execution_count": 22,
   "metadata": {},
   "outputs": [
    {
     "data": {
      "text/plain": [
       "Ks_2sampResult(statistic=0.10767000000000004, pvalue=0.0)"
      ]
     },
     "execution_count": 22,
     "metadata": {},
     "output_type": "execute_result"
    }
   ],
   "source": [
    "stats.ks_2samp(yx, y8)"
   ]
  },
  {
   "cell_type": "code",
   "execution_count": 23,
   "metadata": {},
   "outputs": [
    {
     "data": {
      "text/plain": [
       "Ks_2sampResult(statistic=0.10670199999999996, pvalue=0.0)"
      ]
     },
     "execution_count": 23,
     "metadata": {},
     "output_type": "execute_result"
    }
   ],
   "source": [
    "stats.ks_2samp(yx, y9)"
   ]
  },
  {
   "cell_type": "code",
   "execution_count": 24,
   "metadata": {},
   "outputs": [
    {
     "data": {
      "text/plain": [
       "Ks_2sampResult(statistic=0.10755400000000004, pvalue=0.0)"
      ]
     },
     "execution_count": 24,
     "metadata": {},
     "output_type": "execute_result"
    }
   ],
   "source": [
    "stats.ks_2samp(yx, y10)"
   ]
  },
  {
   "cell_type": "code",
   "execution_count": 25,
   "metadata": {},
   "outputs": [
    {
     "data": {
      "text/plain": [
       "Ks_2sampResult(statistic=0.10762000000000005, pvalue=0.0)"
      ]
     },
     "execution_count": 25,
     "metadata": {},
     "output_type": "execute_result"
    }
   ],
   "source": [
    "stats.ks_2samp(yx, y11)"
   ]
  },
  {
   "cell_type": "code",
   "execution_count": 26,
   "metadata": {},
   "outputs": [
    {
     "data": {
      "text/plain": [
       "Ks_2sampResult(statistic=0.107966, pvalue=0.0)"
      ]
     },
     "execution_count": 26,
     "metadata": {},
     "output_type": "execute_result"
    }
   ],
   "source": [
    "stats.ks_2samp(yx, y12)"
   ]
  },
  {
   "cell_type": "code",
   "execution_count": 27,
   "metadata": {},
   "outputs": [
    {
     "data": {
      "text/plain": [
       "Ks_2sampResult(statistic=0.107966, pvalue=0.0)"
      ]
     },
     "execution_count": 27,
     "metadata": {},
     "output_type": "execute_result"
    }
   ],
   "source": [
    "stats.ks_2samp(yx, y13)"
   ]
  },
  {
   "cell_type": "code",
   "execution_count": 28,
   "metadata": {},
   "outputs": [
    {
     "data": {
      "text/plain": [
       "Ks_2sampResult(statistic=0.10861799999999999, pvalue=0.0)"
      ]
     },
     "execution_count": 28,
     "metadata": {},
     "output_type": "execute_result"
    }
   ],
   "source": [
    "stats.ks_2samp(yx, y14)"
   ]
  },
  {
   "cell_type": "code",
   "execution_count": 29,
   "metadata": {},
   "outputs": [
    {
     "data": {
      "text/plain": [
       "Ks_2sampResult(statistic=0.108286, pvalue=0.0)"
      ]
     },
     "execution_count": 29,
     "metadata": {},
     "output_type": "execute_result"
    }
   ],
   "source": [
    "stats.ks_2samp(yx, y15)"
   ]
  },
  {
   "cell_type": "code",
   "execution_count": 30,
   "metadata": {},
   "outputs": [
    {
     "data": {
      "text/plain": [
       "Ks_2sampResult(statistic=0.10754600000000003, pvalue=0.0)"
      ]
     },
     "execution_count": 30,
     "metadata": {},
     "output_type": "execute_result"
    }
   ],
   "source": [
    "stats.ks_2samp(yx, y16)"
   ]
  },
  {
   "cell_type": "code",
   "execution_count": 31,
   "metadata": {},
   "outputs": [
    {
     "data": {
      "text/plain": [
       "Ks_2sampResult(statistic=0.10834200000000005, pvalue=0.0)"
      ]
     },
     "execution_count": 31,
     "metadata": {},
     "output_type": "execute_result"
    }
   ],
   "source": [
    "stats.ks_2samp(yx, y17)"
   ]
  },
  {
   "cell_type": "code",
   "execution_count": 32,
   "metadata": {},
   "outputs": [
    {
     "data": {
      "text/plain": [
       "Ks_2sampResult(statistic=0.10791000000000006, pvalue=0.0)"
      ]
     },
     "execution_count": 32,
     "metadata": {},
     "output_type": "execute_result"
    }
   ],
   "source": [
    "stats.ks_2samp(yx, y18)"
   ]
  },
  {
   "cell_type": "code",
   "execution_count": 33,
   "metadata": {},
   "outputs": [
    {
     "data": {
      "text/plain": [
       "Ks_2sampResult(statistic=0.10710600000000003, pvalue=0.0)"
      ]
     },
     "execution_count": 33,
     "metadata": {},
     "output_type": "execute_result"
    }
   ],
   "source": [
    "stats.ks_2samp(yx, y19)"
   ]
  },
  {
   "cell_type": "code",
   "execution_count": 35,
   "metadata": {},
   "outputs": [
    {
     "data": {
      "text/plain": [
       "Ks_2sampResult(statistic=0.0028439999999999577, pvalue=0.0350483689628938)"
      ]
     },
     "execution_count": 35,
     "metadata": {},
     "output_type": "execute_result"
    }
   ],
   "source": [
    "stats.ks_2samp(y5, y19)"
   ]
  },
  {
   "cell_type": "code",
   "execution_count": null,
   "metadata": {},
   "outputs": [],
   "source": []
  }
 ],
 "metadata": {
  "kernelspec": {
   "display_name": "Python 3",
   "language": "python",
   "name": "python3"
  },
  "language_info": {
   "codemirror_mode": {
    "name": "ipython",
    "version": 3
   },
   "file_extension": ".py",
   "mimetype": "text/x-python",
   "name": "python",
   "nbconvert_exporter": "python",
   "pygments_lexer": "ipython3",
   "version": "3.7.4"
  }
 },
 "nbformat": 4,
 "nbformat_minor": 2
}
